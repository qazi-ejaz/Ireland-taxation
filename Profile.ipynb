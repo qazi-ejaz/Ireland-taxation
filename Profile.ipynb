{
 "cells": [
  {
   "cell_type": "code",
   "execution_count": 13,
   "metadata": {},
   "outputs": [],
   "source": [
    "import pandas as pd\n",
    "import numpy as np\n",
    "import matplotlib.pyplot as plt"
   ]
  },
  {
   "cell_type": "code",
   "execution_count": 14,
   "metadata": {},
   "outputs": [],
   "source": [
    "def etoro_profile(expenses, total_invested = 8168.48, net_amount = 5802.12, liquid_amount = 5096.44):\n",
    "    \"\"\"Etoro Profile Profit Recovery Analysis\"\"\"\n",
    "    cols = ['Total Invested', 'Liquid Amount', 'Net Amount', 'Profit/Loss', \n",
    "            'Profit/Loss %', 'Further Expenses']\n",
    "    \n",
    "    diff = total_invested - liquid_amount\n",
    "    pcg = liquid_amount / total_invested \n",
    "\n",
    "    loan = sum(expenses)\n",
    "    \n",
    "    data = [[total_invested, net_amount, liquid_amount, diff, pcg*100, loan]]\n",
    "    df = pd.DataFrame(data, columns = cols)\n",
    "    \n",
    "    return df"
   ]
  },
  {
   "cell_type": "code",
   "execution_count": 15,
   "metadata": {},
   "outputs": [
    {
     "data": {
      "text/html": [
       "<div>\n",
       "<style scoped>\n",
       "    .dataframe tbody tr th:only-of-type {\n",
       "        vertical-align: middle;\n",
       "    }\n",
       "\n",
       "    .dataframe tbody tr th {\n",
       "        vertical-align: top;\n",
       "    }\n",
       "\n",
       "    .dataframe thead th {\n",
       "        text-align: right;\n",
       "    }\n",
       "</style>\n",
       "<table border=\"1\" class=\"dataframe\">\n",
       "  <thead>\n",
       "    <tr style=\"text-align: right;\">\n",
       "      <th></th>\n",
       "      <th>Total Invested</th>\n",
       "      <th>Liquid Amount</th>\n",
       "      <th>Net Amount</th>\n",
       "      <th>Profit/Loss</th>\n",
       "      <th>Profit/Loss %</th>\n",
       "      <th>Further Expenses</th>\n",
       "    </tr>\n",
       "  </thead>\n",
       "  <tbody>\n",
       "    <tr>\n",
       "      <th>0</th>\n",
       "      <td>8168.48</td>\n",
       "      <td>5802.12</td>\n",
       "      <td>5096.44</td>\n",
       "      <td>3072.04</td>\n",
       "      <td>62.391534</td>\n",
       "      <td>6545</td>\n",
       "    </tr>\n",
       "  </tbody>\n",
       "</table>\n",
       "</div>"
      ],
      "text/plain": [
       "   Total Invested  Liquid Amount  Net Amount  Profit/Loss  Profit/Loss %  \\\n",
       "0         8168.48        5802.12     5096.44      3072.04      62.391534   \n",
       "\n",
       "   Further Expenses  \n",
       "0              6545  "
      ]
     },
     "execution_count": 15,
     "metadata": {},
     "output_type": "execute_result"
    }
   ],
   "source": [
    "expenses = [500, 1500, 1500, 285, 500, 500, 285, 305, 300, 300, 500, 70]\n",
    "etoro_profile(expenses)"
   ]
  },
  {
   "cell_type": "code",
   "execution_count": 16,
   "metadata": {},
   "outputs": [],
   "source": [
    "def pay_distribution(expense=35, pay=69000, marginal_tax_rate=48.5/100):\n",
    "    \"\"\"Distribute pay to analyze the savings\"\"\"\n",
    "    dist = pd.Series([2.5, 22, expense, 100-2.5-22-expense])\n",
    "    \n",
    "    cols = ['Applicable %', 'Amount/month', 'Annual']\n",
    "    index = ['ALLAH’s Share', 'Parents Share', 'Expenditures', 'Savings']\n",
    "\n",
    "    net_income = salary_tax_calculator(pay) + 12000*(1-marginal_tax_rate)\n",
    "    amount = dist/100 * net_income/12\n",
    "    \n",
    "    data = [[dist[i], amount[i], amount[i]*12] for i in range(len(amount))]\n",
    "\n",
    "    df = pd.DataFrame(data, columns = cols, index = index, dtype=object)\n",
    "    \n",
    "    return df"
   ]
  },
  {
   "cell_type": "code",
   "execution_count": 17,
   "metadata": {},
   "outputs": [
    {
     "data": {
      "text/html": [
       "<div>\n",
       "<style scoped>\n",
       "    .dataframe tbody tr th:only-of-type {\n",
       "        vertical-align: middle;\n",
       "    }\n",
       "\n",
       "    .dataframe tbody tr th {\n",
       "        vertical-align: top;\n",
       "    }\n",
       "\n",
       "    .dataframe thead th {\n",
       "        text-align: right;\n",
       "    }\n",
       "</style>\n",
       "<table border=\"1\" class=\"dataframe\">\n",
       "  <thead>\n",
       "    <tr style=\"text-align: right;\">\n",
       "      <th></th>\n",
       "      <th>Applicable %</th>\n",
       "      <th>Amount/month</th>\n",
       "      <th>Annual</th>\n",
       "    </tr>\n",
       "  </thead>\n",
       "  <tbody>\n",
       "    <tr>\n",
       "      <th>ALLAH’s Share</th>\n",
       "      <td>2.5</td>\n",
       "      <td>109.942</td>\n",
       "      <td>1319.31</td>\n",
       "    </tr>\n",
       "    <tr>\n",
       "      <th>Parents Share</th>\n",
       "      <td>22</td>\n",
       "      <td>967.493</td>\n",
       "      <td>11609.9</td>\n",
       "    </tr>\n",
       "    <tr>\n",
       "      <th>Expenditures</th>\n",
       "      <td>40</td>\n",
       "      <td>1759.08</td>\n",
       "      <td>21108.9</td>\n",
       "    </tr>\n",
       "    <tr>\n",
       "      <th>Savings</th>\n",
       "      <td>35.5</td>\n",
       "      <td>1561.18</td>\n",
       "      <td>18734.2</td>\n",
       "    </tr>\n",
       "  </tbody>\n",
       "</table>\n",
       "</div>"
      ],
      "text/plain": [
       "              Applicable % Amount/month   Annual\n",
       "ALLAH’s Share          2.5      109.942  1319.31\n",
       "Parents Share           22      967.493  11609.9\n",
       "Expenditures            40      1759.08  21108.9\n",
       "Savings               35.5      1561.18  18734.2"
      ]
     },
     "execution_count": 17,
     "metadata": {},
     "output_type": "execute_result"
    }
   ],
   "source": [
    "pay_distribution(40)"
   ]
  },
  {
   "cell_type": "code",
   "execution_count": 18,
   "metadata": {},
   "outputs": [],
   "source": [
    "def get_balance(marginal_tax_rate, sign_bonus = 12000, relocation = 6680, society = 1950 + 300):\n",
    "    \"\"\"Calculate Income After Bonus Taxation\"\"\"\n",
    "    return sign_bonus*(1 - marginal_tax_rate) + relocation + society"
   ]
  },
  {
   "cell_type": "code",
   "execution_count": 19,
   "metadata": {},
   "outputs": [
    {
     "data": {
      "text/plain": [
       "15110.0"
      ]
     },
     "execution_count": 19,
     "metadata": {},
     "output_type": "execute_result"
    }
   ],
   "source": [
    "marginal_tax_rate = 48.5/100\n",
    "balance = get_balance(marginal_tax_rate)\n",
    "balance"
   ]
  },
  {
   "cell_type": "code",
   "execution_count": 23,
   "metadata": {},
   "outputs": [
    {
     "data": {
      "text/html": [
       "<div>\n",
       "<style scoped>\n",
       "    .dataframe tbody tr th:only-of-type {\n",
       "        vertical-align: middle;\n",
       "    }\n",
       "\n",
       "    .dataframe tbody tr th {\n",
       "        vertical-align: top;\n",
       "    }\n",
       "\n",
       "    .dataframe thead th {\n",
       "        text-align: right;\n",
       "    }\n",
       "</style>\n",
       "<table border=\"1\" class=\"dataframe\">\n",
       "  <thead>\n",
       "    <tr style=\"text-align: right;\">\n",
       "      <th></th>\n",
       "      <th>Rate</th>\n",
       "      <th>Income band</th>\n",
       "    </tr>\n",
       "  </thead>\n",
       "  <tbody>\n",
       "    <tr>\n",
       "      <th>0</th>\n",
       "      <td>0.5%</td>\n",
       "      <td>Up to €12,012</td>\n",
       "    </tr>\n",
       "    <tr>\n",
       "      <th>1</th>\n",
       "      <td>2%</td>\n",
       "      <td>From €12,012.01 to €20,687</td>\n",
       "    </tr>\n",
       "    <tr>\n",
       "      <th>2</th>\n",
       "      <td>4.5%</td>\n",
       "      <td>From €20,687 to €70,044</td>\n",
       "    </tr>\n",
       "    <tr>\n",
       "      <th>3</th>\n",
       "      <td>8%</td>\n",
       "      <td>From €70,044.01 and over</td>\n",
       "    </tr>\n",
       "    <tr>\n",
       "      <th>4</th>\n",
       "      <td>11%</td>\n",
       "      <td>Self-employed income over €100,000</td>\n",
       "    </tr>\n",
       "  </tbody>\n",
       "</table>\n",
       "</div>"
      ],
      "text/plain": [
       "   Rate                         Income band\n",
       "0  0.5%                       Up to €12,012\n",
       "1    2%          From €12,012.01 to €20,687\n",
       "2  4.5%             From €20,687 to €70,044\n",
       "3    8%            From €70,044.01 and over\n",
       "4   11%  Self-employed income over €100,000"
      ]
     },
     "execution_count": 23,
     "metadata": {},
     "output_type": "execute_result"
    }
   ],
   "source": [
    "url = 'https://www.citizensinformation.ie/en/money_and_tax/tax/income_tax/universal_social_charge.html'\n",
    "df = pd.read_html(url, header=None)[0]\n",
    "df"
   ]
  },
  {
   "cell_type": "code",
   "execution_count": 24,
   "metadata": {},
   "outputs": [
    {
     "data": {
      "text/html": [
       "<div>\n",
       "<style scoped>\n",
       "    .dataframe tbody tr th:only-of-type {\n",
       "        vertical-align: middle;\n",
       "    }\n",
       "\n",
       "    .dataframe tbody tr th {\n",
       "        vertical-align: top;\n",
       "    }\n",
       "\n",
       "    .dataframe thead th {\n",
       "        text-align: right;\n",
       "    }\n",
       "</style>\n",
       "<table border=\"1\" class=\"dataframe\">\n",
       "  <thead>\n",
       "    <tr style=\"text-align: right;\">\n",
       "      <th></th>\n",
       "      <th>0</th>\n",
       "    </tr>\n",
       "  </thead>\n",
       "  <tbody>\n",
       "    <tr>\n",
       "      <th>0</th>\n",
       "      <td>12,012</td>\n",
       "    </tr>\n",
       "    <tr>\n",
       "      <th>1</th>\n",
       "      <td>12,012.01</td>\n",
       "    </tr>\n",
       "    <tr>\n",
       "      <th>2</th>\n",
       "      <td>20,687</td>\n",
       "    </tr>\n",
       "    <tr>\n",
       "      <th>3</th>\n",
       "      <td>70,044.01</td>\n",
       "    </tr>\n",
       "    <tr>\n",
       "      <th>4</th>\n",
       "      <td>100,000</td>\n",
       "    </tr>\n",
       "  </tbody>\n",
       "</table>\n",
       "</div>"
      ],
      "text/plain": [
       "           0\n",
       "0     12,012\n",
       "1  12,012.01\n",
       "2     20,687\n",
       "3  70,044.01\n",
       "4    100,000"
      ]
     },
     "execution_count": 24,
     "metadata": {},
     "output_type": "execute_result"
    }
   ],
   "source": [
    "x = df['Income band'].str.extract('([\\d]+[.,\\d]+|[\\d]*[.][\\d]+|[\\d]+)')\n",
    "x"
   ]
  },
  {
   "cell_type": "code",
   "execution_count": 22,
   "metadata": {},
   "outputs": [
    {
     "data": {
      "text/plain": [
       "['12,012', '12,012.01', '20,687', '70,044.01', '100,000']"
      ]
     },
     "execution_count": 22,
     "metadata": {},
     "output_type": "execute_result"
    }
   ],
   "source": [
    "fg = x.values.flatten().tolist()\n",
    "fg"
   ]
  },
  {
   "cell_type": "code",
   "execution_count": null,
   "metadata": {},
   "outputs": [],
   "source": []
  }
 ],
 "metadata": {
  "instance_type": "ml.t3.medium",
  "kernelspec": {
   "display_name": "Python 3 (Data Science)",
   "language": "python",
   "name": "python3__SAGEMAKER_INTERNAL__arn:aws:sagemaker:eu-west-3:615547856133:image/datascience-1.0"
  },
  "language_info": {
   "codemirror_mode": {
    "name": "ipython",
    "version": 3
   },
   "file_extension": ".py",
   "mimetype": "text/x-python",
   "name": "python",
   "nbconvert_exporter": "python",
   "pygments_lexer": "ipython3",
   "version": "3.7.10"
  }
 },
 "nbformat": 4,
 "nbformat_minor": 4
}
