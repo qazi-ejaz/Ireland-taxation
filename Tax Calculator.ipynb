{
 "cells": [
  {
   "cell_type": "code",
   "execution_count": 18,
   "metadata": {},
   "outputs": [],
   "source": [
    "import pandas as pd\n",
    "import numpy as np\n",
    "import matplotlib.pyplot as plt"
   ]
  },
  {
   "cell_type": "code",
   "execution_count": 160,
   "metadata": {},
   "outputs": [],
   "source": [
    "class salary_tax_calculator:\n",
    "    \"\"\"Tax calculation on salary as per Irish laws\"\"\"\n",
    "    def __init__(self, pay):\n",
    "        self.pay = pay\n",
    "        self.tax_credits = 1650 + 1650 + 245 # pesonal tax credits exemption\n",
    "        self.netPay = self.health_insurance = self.employee_pension_contributions = 0\n",
    "        \n",
    "    def set_params(self, employee_pension_contributions = 0, health_insurance = 0):        \n",
    "        if health_insurance > 0:\n",
    "            self.tax_credits += 200\n",
    "        \n",
    "        self.health_insurance = health_insurance * 12\n",
    "        self.employee_pension_contributions = employee_pension_contributions/100 * self.pay\n",
    "        self.pay += self.health_insurance\n",
    "        self.PRSI = self.pay * 4/100 # Pay Related Social Insurance (PRSI) @ 4%\n",
    "        self.netPay = self.pay - self.employee_pension_contributions\n",
    "            \n",
    "    def get_taxBracket(self):\n",
    "        return [35300 * 0.8, (self.netPay - 35300) * 0.6] # 20% tax on 35,300 euros & 40% tax on remaining income\n",
    "    \n",
    "    def get_employee_pension_contributions(self):\n",
    "        return self.employee_pension_contributions\n",
    "        \n",
    "    def get_USC_rates(self):\n",
    "        url = 'https://www.citizensinformation.ie/en/money_and_tax/tax/income_tax/universal_social_charge.html'\n",
    "        df = pd.read_html(url)[0]\n",
    "        USC_rate = df['Rate'].apply(lambda x: float(x.strip('%'))/100)\n",
    "        #USC_lim = df['Income band'].str.extract('([\\d]+[.,\\d]+|[\\d]*[.][\\d]+|[\\d]+)')\n",
    "        return USC_rate\n",
    "    \n",
    "    def get_USC(self):\n",
    "        USC_rate = self.get_USC_rates() # USC_rate = [0.5, 2, 4.5, 8]\n",
    "        USC_lim = [12012, 20687, 70044] # USC_lim = int (USC_lim)\n",
    "\n",
    "        if self.pay > USC_lim[2]:\n",
    "            USC_tax = (USC_lim[2]-USC_lim[1])*USC_rate[2] + (self.pay-USC_lim[2])*USC_rate[3]\n",
    "        else: \n",
    "            USC_tax = (self.pay-USC_lim[1])*USC_rate[2]\n",
    "        \n",
    "        return USC_lim[0]*USC_rate[0] + (USC_lim[1]-USC_lim[0])*USC_rate[1] + USC_tax # Universal Social Charge\n",
    "        \n",
    "    \n",
    "    def income_after_tax(self):\n",
    "        USC = self.get_USC()\n",
    "        return sum(self.get_taxBracket()) + self.tax_credits - self.PRSI - USC"
   ]
  },
  {
   "cell_type": "code",
   "execution_count": 163,
   "metadata": {},
   "outputs": [
    {
     "name": "stdout",
     "output_type": "stream",
     "text": [
      "Income =  43720.710999999996 3643.392583333333\n"
     ]
    }
   ],
   "source": [
    "pay = 69000\n",
    "p1 = salary_tax_calculator(pay)\n",
    "care_select = 136.60\n",
    "p1.set_params(10, care_select)\n",
    "x = p1.income_after_tax()\n",
    "#print(p1.get_employee_pension_contributions())\n",
    "print('Income = ', x, x/12)"
   ]
  },
  {
   "cell_type": "code",
   "execution_count": null,
   "metadata": {},
   "outputs": [],
   "source": []
  }
 ],
 "metadata": {
  "instance_type": "ml.t3.medium",
  "kernelspec": {
   "display_name": "Python 3 (Data Science)",
   "language": "python",
   "name": "python3__SAGEMAKER_INTERNAL__arn:aws:sagemaker:eu-west-3:615547856133:image/datascience-1.0"
  },
  "language_info": {
   "codemirror_mode": {
    "name": "ipython",
    "version": 3
   },
   "file_extension": ".py",
   "mimetype": "text/x-python",
   "name": "python",
   "nbconvert_exporter": "python",
   "pygments_lexer": "ipython3",
   "version": "3.7.10"
  }
 },
 "nbformat": 4,
 "nbformat_minor": 4
}
